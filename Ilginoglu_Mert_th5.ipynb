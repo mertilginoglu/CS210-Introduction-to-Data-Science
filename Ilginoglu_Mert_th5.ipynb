{
  "nbformat": 4,
  "nbformat_minor": 0,
  "metadata": {
    "colab": {
      "name": "Ilginoglu_Mert_th5",
      "provenance": [],
      "collapsed_sections": [],
      "toc_visible": true
    },
    "kernelspec": {
      "name": "python3",
      "display_name": "Python 3"
    }
  },
  "cells": [
    {
      "cell_type": "markdown",
      "metadata": {
        "id": "b790duluUho8",
        "colab_type": "text"
      },
      "source": [
        "# Take-Home Exam 5: Decision Trees\n",
        "\n",
        "*In this take-home exam, you are going to work with decision trees and observe how it performs with different hyperparameter settings.*\n",
        "\n",
        "**Submission Instructions**\n",
        "\n",
        "---\n",
        "Copy this assignment to your Drive. <font color = 'red'> `File` --> `Save a copy in Drive`</font>. Rename it as <font color = 'green'>`Lastname_Firstname_th5`</font>.\n",
        "\n",
        "Write your solutions in the cells  marked <font color = 'green'>`# your code`</font>.\n",
        "\n",
        "When you're done please submit your solutions as an <font color=\"red\">`.ipynb`</font> file. To do so:\n",
        "\n",
        "\n",
        "1.  Click on <font color=\"red\">`File`</font>  at the top left on the Colab screen, then click on <font color = 'red'>`Download .ipynb`</font>.\n",
        "2.   Then submit the <font color=\"red\">`.ipynb`</font> version of your work on SUCourse.\n",
        "\n",
        "\n",
        "For any question, you may send an email to the TAs and LAs.\n",
        "\n",
        "---"
      ]
    },
    {
      "cell_type": "code",
      "metadata": {
        "id": "mTMBGHV_UxjB",
        "colab_type": "code",
        "outputId": "d04a0aa5-483c-4e6d-c674-b342397367d0",
        "colab": {
          "base_uri": "https://localhost:8080/",
          "height": 122
        }
      },
      "source": [
        "from google.colab import drive\n",
        "drive.mount(\"/content/drive\", force_remount=True)\n",
        "\n",
        "path_prefix = \"/content/drive/My Drive\""
      ],
      "execution_count": 2,
      "outputs": [
        {
          "output_type": "stream",
          "text": [
            "Go to this URL in a browser: https://accounts.google.com/o/oauth2/auth?client_id=947318989803-6bn6qk8qdgf4n4g3pfee6491hc0brc4i.apps.googleusercontent.com&redirect_uri=urn%3aietf%3awg%3aoauth%3a2.0%3aoob&response_type=code&scope=email%20https%3a%2f%2fwww.googleapis.com%2fauth%2fdocs.test%20https%3a%2f%2fwww.googleapis.com%2fauth%2fdrive%20https%3a%2f%2fwww.googleapis.com%2fauth%2fdrive.photos.readonly%20https%3a%2f%2fwww.googleapis.com%2fauth%2fpeopleapi.readonly\n",
            "\n",
            "Enter your authorization code:\n",
            "··········\n",
            "Mounted at /content/drive\n"
          ],
          "name": "stdout"
        }
      ]
    },
    {
      "cell_type": "code",
      "metadata": {
        "id": "9ulyIEtTU4_X",
        "colab_type": "code",
        "colab": {}
      },
      "source": [
        "import pandas as pd\n",
        "import numpy as np\n",
        "import matplotlib.pyplot as plt\n",
        "from os.path import join\n",
        "\n",
        "%matplotlib inline"
      ],
      "execution_count": 0,
      "outputs": []
    },
    {
      "cell_type": "markdown",
      "metadata": {
        "id": "numRKpzYU_iR",
        "colab_type": "text"
      },
      "source": [
        "## Constructing a Decision Tree\n",
        "\n",
        "A decision tree can be formulated as a regular tree structure in which nodes correspond to rules, condition checks and leaves correspond to prediction values. The construction process should be steered carefully. A tree that is grown without any constraint/limit may affect the performance drastically. In this exercise, you are going to train two different decision trees and observe how their classification boundaries change with respect to train data and then measure their performance on the test data.\n",
        "\n",
        "To this end, you will be working with `data.csv` file that contains two features, namely `x` and `y`, and the target attribute `label`."
      ]
    },
    {
      "cell_type": "code",
      "metadata": {
        "id": "HEJwOmhiJzkq",
        "colab_type": "code",
        "outputId": "50e20b42-cee3-4471-ea02-ced7abcbd9ea",
        "colab": {
          "base_uri": "https://localhost:8080/",
          "height": 204
        }
      },
      "source": [
        "filename = \"data.csv\"\n",
        "df = pd.read_csv(join(path_prefix, filename))\n",
        "df.head()"
      ],
      "execution_count": 4,
      "outputs": [
        {
          "output_type": "execute_result",
          "data": {
            "text/html": [
              "<div>\n",
              "<style scoped>\n",
              "    .dataframe tbody tr th:only-of-type {\n",
              "        vertical-align: middle;\n",
              "    }\n",
              "\n",
              "    .dataframe tbody tr th {\n",
              "        vertical-align: top;\n",
              "    }\n",
              "\n",
              "    .dataframe thead th {\n",
              "        text-align: right;\n",
              "    }\n",
              "</style>\n",
              "<table border=\"1\" class=\"dataframe\">\n",
              "  <thead>\n",
              "    <tr style=\"text-align: right;\">\n",
              "      <th></th>\n",
              "      <th>x</th>\n",
              "      <th>y</th>\n",
              "      <th>label</th>\n",
              "    </tr>\n",
              "  </thead>\n",
              "  <tbody>\n",
              "    <tr>\n",
              "      <th>0</th>\n",
              "      <td>5.1</td>\n",
              "      <td>3.5</td>\n",
              "      <td>0.0</td>\n",
              "    </tr>\n",
              "    <tr>\n",
              "      <th>1</th>\n",
              "      <td>4.9</td>\n",
              "      <td>3.0</td>\n",
              "      <td>0.0</td>\n",
              "    </tr>\n",
              "    <tr>\n",
              "      <th>2</th>\n",
              "      <td>4.7</td>\n",
              "      <td>3.2</td>\n",
              "      <td>0.0</td>\n",
              "    </tr>\n",
              "    <tr>\n",
              "      <th>3</th>\n",
              "      <td>4.6</td>\n",
              "      <td>3.1</td>\n",
              "      <td>0.0</td>\n",
              "    </tr>\n",
              "    <tr>\n",
              "      <th>4</th>\n",
              "      <td>5.0</td>\n",
              "      <td>3.6</td>\n",
              "      <td>0.0</td>\n",
              "    </tr>\n",
              "  </tbody>\n",
              "</table>\n",
              "</div>"
            ],
            "text/plain": [
              "     x    y  label\n",
              "0  5.1  3.5    0.0\n",
              "1  4.9  3.0    0.0\n",
              "2  4.7  3.2    0.0\n",
              "3  4.6  3.1    0.0\n",
              "4  5.0  3.6    0.0"
            ]
          },
          "metadata": {
            "tags": []
          },
          "execution_count": 4
        }
      ]
    },
    {
      "cell_type": "markdown",
      "metadata": {
        "id": "M5IpA-s-WNKY",
        "colab_type": "text"
      },
      "source": [
        "### Q1: Classification Boundaries\n",
        "\n",
        "In this task, you will analyze how different hyperparameter settings affect the classification boundaries for decision trees. \n",
        "\n",
        "Below, you may find the function from the previous take-home exam to display the classification boundaries. However, the function is slightly changed. In addition to the previous parameters, it expects two more:\n",
        "\n",
        "- `model` -> a model you generated\n",
        "- `data` -> the feature set to train the `model` \n",
        "- `labels` -> corresponding label values \n",
        "- `ax` -> an axes object to plot the classification boundaries of the given model\n",
        "- `title` -> the title of the given `ax` object\n",
        "\n",
        "The function still trains the model, but you should also provide the data to be trained on. \n",
        "\n",
        "**Important:** The parameters `data` and `labels` should be numpy arrays, i.e. you should work with df[[\"x\", \"y\"]].values which returns the numpy array of the specified columns.\n",
        "\n",
        "---\n",
        "\n",
        "1. Split the original data into two folds, namely *train* and *test*, in which 20% is reserved for the test data. Here, it's important that you **set the random_state parameter to 1** in train_test_split function.\n",
        "\n",
        "2. Generate two different decision tree models. \n",
        "\n",
        "  - The first one should be generated with hyperparameter **`min_samples_leaf` set to 1**. `min_samples_leaf` is the minimum number of samples required to be at a leaf node. \n",
        "\n",
        "  - The second decision tree model should be initialized with **`min_samples_leaf` set to 5** and **`max_depth` set to 4**. `max_depth` hyperparameter controls the maximum depth of the tree.\n",
        "\n",
        "3. Display the resulting classification boundaries in a **1x2 layout**. Utilize the axes titles to highlight the models.\n",
        "\n",
        "  - Here, you should **put the train data as a parameter to the `visualize_model` function**, i.e. the function call should be visualize_model(model, x_train, y_train, ax, title).\n",
        "\n",
        "\n",
        "Once you generate the boundaries, comment on the results. Disscuss the model performances with respect to generalizability, i.e. which model would perform better with unseen test data."
      ]
    },
    {
      "cell_type": "code",
      "metadata": {
        "id": "MDO5TfubKFJR",
        "colab_type": "code",
        "colab": {}
      },
      "source": [
        "from matplotlib.colors import ListedColormap\n",
        "from ipywidgets import interact\n",
        "\n",
        "def visualize_model(model, data, labels, ax, title):\n",
        "  step = 0.05\n",
        "\n",
        "  cmap_light = ListedColormap(['orange', 'cyan', 'cornflowerblue'])\n",
        "  cmap_bold = ListedColormap(['darkorange', 'c', 'darkblue'])\n",
        "\n",
        "  model.fit(data, labels)\n",
        "\n",
        "  x_min = data[:, 0].min() - 1\n",
        "  x_max = data[:, 0].max() + 1\n",
        "  y_min = data[:, 1].min() - 1\n",
        "  y_max = data[:, 1].max() + 1\n",
        "\n",
        "  xx, yy = np.meshgrid(np.arange(x_min, x_max, step), np.arange(y_min, y_max, step))\n",
        "  y_pred = model.predict(np.hstack([xx.reshape(-1,1), yy.reshape(-1,1)])).reshape(xx.shape)\n",
        "\n",
        "  ax.pcolormesh(xx, yy, y_pred, cmap=cmap_light)\n",
        "  ax.scatter(data[:, 0], data[:, 1], c=labels, cmap=cmap_bold, edgecolor='k', s=20)\n",
        "  ax.set_xlim(xx.min(), xx.max())\n",
        "  ax.set_ylim(yy.min(), yy.max())\n",
        "  ax.set_title(title)"
      ],
      "execution_count": 0,
      "outputs": []
    },
    {
      "cell_type": "code",
      "metadata": {
        "id": "ie7SM8f3Y5Wm",
        "colab_type": "code",
        "outputId": "aea48570-6f35-4a2e-f0d3-260fd580ec4f",
        "colab": {
          "base_uri": "https://localhost:8080/",
          "height": 420
        }
      },
      "source": [
        "# your code\n",
        "from sklearn import tree\n",
        "from sklearn.model_selection import train_test_split\n",
        "\n",
        "fig, axs = plt.subplots(1, 2, figsize=(24, 6), sharey=True)\n",
        "\n",
        "X = df.drop('label',axis = 1)\n",
        "y = df['label']\n",
        "\n",
        "X_train, X_test, y_train, y_test = train_test_split(X, y, random_state=1, test_size=0.20)\n",
        "\n",
        "model1 = tree.DecisionTreeClassifier(min_samples_leaf=1) #Create decision tree classifier object\n",
        "model2 = tree.DecisionTreeClassifier(min_samples_leaf=5, max_depth=4) #Create decision tree classifier object\n",
        "\n",
        "X_train_arr = np.array(X_train)\n",
        "y_train_arr = np.array(y_train)\n",
        "\n",
        "visualize_model(model1, X_train_arr, y_train_arr, axs[0], \"Model with \\n min_leaf_samples = 1\")\n",
        "visualize_model(model2, X_train_arr, y_train_arr, axs[1], \"Model with \\n min_leaf_samples = 5 \\n max_depth=4\")"
      ],
      "execution_count": 6,
      "outputs": [
        {
          "output_type": "display_data",
          "data": {
            "image/png": "[encoded data removed]",
            "text/plain": [
              "<Figure size 1728x432 with 2 Axes>"
            ]
          },
          "metadata": {
            "tags": [],
            "needs_background": "light"
          }
        }
      ]
    },
    {
      "cell_type": "markdown",
      "metadata": {
        "id": "wcfbZGVaY6I-",
        "colab_type": "text"
      },
      "source": [
        "<font color=\"blue\">[Double Click to Insert Your Comments]</font>\n",
        "\n",
        "Visualization of the first model with min_leaf_samples = 1 seems to overfit our data. For example near x=5.5, y=2.75 we see that area is blue. However turquoise dots are more common there, so it should be turquoise. On the other graph, we don't see overfitting. It also doesn't underfit, so it is kind of a graph that we want."
      ]
    },
    {
      "cell_type": "markdown",
      "metadata": {
        "id": "JVM-QY1Ng51z",
        "colab_type": "text"
      },
      "source": [
        "### Q2: Model Performance\n",
        "\n",
        "In the previous task, you performed a visual inspection on the decision tree models. Here, you are going to compare the performance with respect to the test data. And then solidify your findings with cross validation.\n",
        "\n",
        "1. For both of the models, find the accuracy score on the train data. \n",
        "  - Here, the models are already trained with the train data. Measure the performance of the models on the train data.\n",
        "\n",
        "2. For both of the models, find the accuracy score on the test data.\n",
        "\n",
        "Once you extract the accuracy values, display the model performances' in a bar chart. An exemplary figure can be found below. \n",
        "\n",
        "<img height=\"300\" widht=\"300\" src=\"https://i.ibb.co/gjDm65z/gg.png\"/>\n",
        "\n",
        "Compare the models in terms of their performance on train and test data. Discuss the difference between the results. And try to explain the reason behind the difference."
      ]
    },
    {
      "cell_type": "code",
      "metadata": {
        "id": "kVQYq7N7m-QO",
        "colab_type": "code",
        "outputId": "2d6a6a3a-91f6-40b0-f479-50212a1f861c",
        "colab": {
          "base_uri": "https://localhost:8080/",
          "height": 317
        }
      },
      "source": [
        "# your code\n",
        "from sklearn.metrics import accuracy_score\n",
        "model1_test_pre = model1.predict(X_test)\n",
        "model1_train_pre = model1.predict(X_train)\n",
        "model2_test_pre = model2.predict(X_test)\n",
        "model2_train_pre = model2.predict(X_train)\n",
        "\n",
        "model1_test_acc = accuracy_score(y_test, model1_test_pre)\n",
        "model1_train_acc = accuracy_score(y_train, model1_train_pre)\n",
        "model2_test_acc = accuracy_score(y_test, model2_test_pre)\n",
        "model2_train_acc = accuracy_score(y_train, model2_train_pre)\n",
        "\n",
        "index = np.arange(5)\n",
        "bar_width = 0.35\n",
        "\n",
        "\n",
        "N = 2\n",
        "test_list = (model1_test_acc, model2_test_acc)\n",
        "train_list = (model1_train_acc, model2_train_acc)\n",
        "\n",
        "ind = np.arange(N) \n",
        "width = 0.35       \n",
        "plt.barh(ind, test_list, width, label='Test')\n",
        "plt.barh(ind + width, train_list, width,\n",
        "    label='Train')\n",
        "plt.ylabel('Model')\n",
        "plt.xlabel('Accuracy')\n",
        "plt.title('Model')\n",
        "\n",
        "plt.grid()\n",
        "\n",
        "plt.yticks(ind + width / 2, ('Model with \\n min_leaf_samples = 1', 'Model with \\n min_leaf_samples = 5 \\n max_depth=4'))\n",
        "plt.legend(loc=(0.82,1.02))\n",
        "plt.show()"
      ],
      "execution_count": 7,
      "outputs": [
        {
          "output_type": "display_data",
          "data": {
            "image/png": "[encoded data removed]",
            "text/plain": [
              "<Figure size 432x288 with 1 Axes>"
            ]
          },
          "metadata": {
            "tags": [],
            "needs_background": "light"
          }
        }
      ]
    },
    {
      "cell_type": "markdown",
      "metadata": {
        "id": "C5a0F5psnAhw",
        "colab_type": "text"
      },
      "source": [
        "<font color=\"blue\">[Double Click to Insert Your Comments]</font>\n",
        "\n",
        "We see that overfitted model has a high accuracy in train data but lower in test data. On the other hand, other model has similar level of accuracies between test and train data and they are in middle of train and test accuracy of the other model."
      ]
    },
    {
      "cell_type": "markdown",
      "metadata": {
        "id": "cRnxL72av86T",
        "colab_type": "text"
      },
      "source": [
        "### Q3: Cross Validation\n",
        "\n",
        "Train-test splitting based model evaluations highly depend on the random splitting procedure. In order to evaluate your models in a more robust manner, you may apply cross validation.\n",
        "\n",
        "Here, apply 10-Fold cross validation for both of the models and discuss the results.\n",
        "\n",
        "1. Generate both of the models with the same set of hyperparameter settings.\n",
        "\n",
        "2. Evalute your models with 10-Fold cross validation.\n",
        "\n",
        "  - Here, you should be working with the original data. There is no need for the train/test folds.\n",
        "\n",
        "Once you obtain the cross validation accuracy values, discuss the results. Which model is better and why? "
      ]
    },
    {
      "cell_type": "code",
      "metadata": {
        "id": "02VxBBxC1Xbm",
        "colab_type": "code",
        "outputId": "d20c3a58-267b-4818-a9d1-f7747f78d5c4",
        "colab": {
          "base_uri": "https://localhost:8080/",
          "height": 51
        }
      },
      "source": [
        "# your code\n",
        "from sklearn.model_selection import cross_val_score\n",
        "\n",
        "model1_cv = tree.DecisionTreeClassifier(min_samples_leaf=1) #Create decision tree classifier object\n",
        "model2_cv = tree.DecisionTreeClassifier(min_samples_leaf=5, max_depth=4) #Create decision tree classifier object\n",
        "\n",
        "model1_cv_acc = cross_val_score(model1_cv, X, y, cv=10)\n",
        "model2_cv_acc = cross_val_score(model2_cv, X, y, cv=10)\n",
        "\n",
        "print(\"Accuracy of min_sample_leaf=1 : %0.2f (+/- %0.2f)\" % (model1_cv_acc.mean(), model1_cv_acc.std() * 2))\n",
        "print(\"Accuracy min_sample_leaf=5 : %0.2f (+/- %0.2f)\" % (model2_cv_acc.mean(), model2_cv_acc.std() * 2))\n"
      ],
      "execution_count": 11,
      "outputs": [
        {
          "output_type": "stream",
          "text": [
            "Accuracy of min_sample_leaf=1 : 0.66 (+/- 0.18)\n",
            "Accuracy min_sample_leaf=5 : 0.72 (+/- 0.20)\n"
          ],
          "name": "stdout"
        }
      ]
    },
    {
      "cell_type": "markdown",
      "metadata": {
        "id": "4Ivix50U1aXd",
        "colab_type": "text"
      },
      "source": [
        "<font color=\"blue\">[Double Click to Insert Your Comments]</font>\n",
        "\n",
        "We see that our accuracy results decreased when we used 10 fold cross validation. The model we did in the first part with min_leaf_sample=5 seems to be the best model because it does not overfit nor underfit. Its accuracy is higher than the last models."
      ]
    }
  ]
}