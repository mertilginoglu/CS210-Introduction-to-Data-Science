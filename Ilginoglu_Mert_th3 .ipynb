{
  "nbformat": 4,
  "nbformat_minor": 0,
  "metadata": {
    "colab": {
      "name": "Ilginoglu_Mert_th3",
      "provenance": [],
      "collapsed_sections": [],
      "toc_visible": true
    },
    "kernelspec": {
      "name": "python3",
      "display_name": "Python 3"
    }
  },
  "cells": [
    {
      "cell_type": "markdown",
      "metadata": {
        "id": "G-pg1ecnceU6",
        "colab_type": "text"
      },
      "source": [
        "# Take-Home Exam 3: Statistical Tests\n",
        "\n",
        "*In this take-home exam, you are going to perform hypothesis testing in different scenarios involving various data types.*\n",
        "\n",
        "**Submission Instructions**\n",
        "\n",
        "---\n",
        "Copy this assignment to your Drive. <font color = 'red'> `File` --> `Save a copy in Drive`</font>. Rename it as <font color = 'green'>`Lastname_Firstname_th3`</font>.\n",
        "\n",
        "Write your solutions in the cells  marked <font color = 'green'>`# your code`</font>.\n",
        "\n",
        "When you're done please submit your solutions as an <font color=\"red\">`.ipynb`</font> file. To do so:\n",
        "\n",
        "\n",
        "1.  Click on <font color=\"red\">`File`</font>  at the top left on the Colab screen, then click on <font color = 'red'>`Download .ipynb`</font>.\n",
        "2.   Then submit the <font color=\"red\">`.ipynb`</font> version of your work on SUCourse.\n",
        "\n",
        "\n",
        "For any question, you may send an email to the TAs and LAs.\n",
        "\n",
        "---"
      ]
    },
    {
      "cell_type": "code",
      "metadata": {
        "id": "oykXNK-rcA5K",
        "colab_type": "code",
        "outputId": "a1c3856a-d6f5-4eed-ee47-796b83be06c0",
        "colab": {
          "base_uri": "https://localhost:8080/",
          "height": 122
        }
      },
      "source": [
        "from google.colab import drive\n",
        "drive.mount(\"/content/drive\", force_remount=True)\n",
        "\n",
        "path_prefix = \"/content/drive/My Drive\""
      ],
      "execution_count": 0,
      "outputs": [
        {
          "output_type": "stream",
          "text": [
            "Go to this URL in a browser: https://accounts.google.com/o/oauth2/auth?client_id=947318989803-6bn6qk8qdgf4n4g3pfee6491hc0brc4i.apps.googleusercontent.com&redirect_uri=urn%3aietf%3awg%3aoauth%3a2.0%3aoob&response_type=code&scope=email%20https%3a%2f%2fwww.googleapis.com%2fauth%2fdocs.test%20https%3a%2f%2fwww.googleapis.com%2fauth%2fdrive%20https%3a%2f%2fwww.googleapis.com%2fauth%2fdrive.photos.readonly%20https%3a%2f%2fwww.googleapis.com%2fauth%2fpeopleapi.readonly\n",
            "\n",
            "Enter your authorization code:\n",
            "··········\n",
            "Mounted at /content/drive\n"
          ],
          "name": "stdout"
        }
      ]
    },
    {
      "cell_type": "code",
      "metadata": {
        "id": "KyJq2YXKcXOP",
        "colab_type": "code",
        "colab": {}
      },
      "source": [
        "import pandas as pd\n",
        "import numpy as np\n",
        "import matplotlib.pyplot as plt\n",
        "from scipy import stats\n",
        "from os.path import join\n",
        "import copy\n",
        "import random\n",
        "\n",
        "%matplotlib inline"
      ],
      "execution_count": 0,
      "outputs": []
    },
    {
      "cell_type": "markdown",
      "metadata": {
        "id": "mS6J3r0I4iEQ",
        "colab_type": "text"
      },
      "source": [
        "## Spearman rank correlation\n",
        "\n",
        "In recitation 6, we talked about Pearson's correlation function, which calculates **the linear correlation among two continuous variables**. The function yields a correlation coefficient between -1 (perfect negative correlation) and 1 (perfect positive correlation). However, in order to deal with the correlation among variables of different data types we need further statistical functions. \n",
        "\n",
        "Spearman's correlation function calculates the correlation between two **ordinal variables** (in addition, interval or ratio scale are also accepted), where there is an order/ranking among the values. The function returns a correlation coefficient, again between -1 (negatively perfect) and 1 (positively perfect), that signifies the strength and direction of the monotonic relationship between the variables.\n",
        "\n",
        "![](https://statistics.laerd.com/statistical-guides/img/spearman-1-small.png)\n",
        "\n",
        "In this problem, you are going to be working on a dataset that stores house sales prices and characteristics in Seattle and King County, WA, USA. Your goal is to measure the correlation between the quality of house view (ranked between 0-4) and its condition (ranked between 1-5). However, the dataset is split into two folds. The view quality is stored in a file named `\"house_sales.csv\"` and the condition values are stored in `\"house_conditions.csv\"`. In both datasets, the `id` columns link corresponding houses. After you merge these datasets, your task is to measure the relationship between view quality and house condition with Spearman's rank correlation function."
      ]
    },
    {
      "cell_type": "code",
      "metadata": {
        "id": "AbJrRQ_dNqx7",
        "colab_type": "code",
        "outputId": "267f57f6-03c5-40c7-b1ed-66b80e8e638d",
        "colab": {
          "base_uri": "https://localhost:8080/",
          "height": 162
        }
      },
      "source": [
        "sales_filename = \"house_sales.csv\"\n",
        "\n",
        "df_sales = pd.read_csv(join(path_prefix, sales_filename))\n",
        "df_sales.head(3)"
      ],
      "execution_count": 0,
      "outputs": [
        {
          "output_type": "execute_result",
          "data": {
            "text/html": [
              "<div>\n",
              "<style scoped>\n",
              "    .dataframe tbody tr th:only-of-type {\n",
              "        vertical-align: middle;\n",
              "    }\n",
              "\n",
              "    .dataframe tbody tr th {\n",
              "        vertical-align: top;\n",
              "    }\n",
              "\n",
              "    .dataframe thead th {\n",
              "        text-align: right;\n",
              "    }\n",
              "</style>\n",
              "<table border=\"1\" class=\"dataframe\">\n",
              "  <thead>\n",
              "    <tr style=\"text-align: right;\">\n",
              "      <th></th>\n",
              "      <th>id</th>\n",
              "      <th>date</th>\n",
              "      <th>price</th>\n",
              "      <th>bedrooms</th>\n",
              "      <th>bathrooms</th>\n",
              "      <th>sqft_living</th>\n",
              "      <th>sqft_lot</th>\n",
              "      <th>floors</th>\n",
              "      <th>waterfront</th>\n",
              "      <th>view</th>\n",
              "      <th>grade</th>\n",
              "      <th>sqft_above</th>\n",
              "      <th>sqft_basement</th>\n",
              "      <th>yr_built</th>\n",
              "      <th>yr_renovated</th>\n",
              "      <th>zipcode</th>\n",
              "      <th>lat</th>\n",
              "      <th>long</th>\n",
              "      <th>sqft_living15</th>\n",
              "      <th>sqft_lot15</th>\n",
              "    </tr>\n",
              "  </thead>\n",
              "  <tbody>\n",
              "    <tr>\n",
              "      <th>0</th>\n",
              "      <td>7129300520</td>\n",
              "      <td>20141013T000000</td>\n",
              "      <td>221900.0</td>\n",
              "      <td>3</td>\n",
              "      <td>1.00</td>\n",
              "      <td>1180</td>\n",
              "      <td>5650</td>\n",
              "      <td>1.0</td>\n",
              "      <td>0</td>\n",
              "      <td>0</td>\n",
              "      <td>7</td>\n",
              "      <td>1180</td>\n",
              "      <td>0</td>\n",
              "      <td>1955</td>\n",
              "      <td>0</td>\n",
              "      <td>98178</td>\n",
              "      <td>47.5112</td>\n",
              "      <td>-122.257</td>\n",
              "      <td>1340</td>\n",
              "      <td>5650</td>\n",
              "    </tr>\n",
              "    <tr>\n",
              "      <th>1</th>\n",
              "      <td>6414100192</td>\n",
              "      <td>20141209T000000</td>\n",
              "      <td>538000.0</td>\n",
              "      <td>3</td>\n",
              "      <td>2.25</td>\n",
              "      <td>2570</td>\n",
              "      <td>7242</td>\n",
              "      <td>2.0</td>\n",
              "      <td>0</td>\n",
              "      <td>0</td>\n",
              "      <td>7</td>\n",
              "      <td>2170</td>\n",
              "      <td>400</td>\n",
              "      <td>1951</td>\n",
              "      <td>1991</td>\n",
              "      <td>98125</td>\n",
              "      <td>47.7210</td>\n",
              "      <td>-122.319</td>\n",
              "      <td>1690</td>\n",
              "      <td>7639</td>\n",
              "    </tr>\n",
              "    <tr>\n",
              "      <th>2</th>\n",
              "      <td>5631500400</td>\n",
              "      <td>20150225T000000</td>\n",
              "      <td>180000.0</td>\n",
              "      <td>2</td>\n",
              "      <td>1.00</td>\n",
              "      <td>770</td>\n",
              "      <td>10000</td>\n",
              "      <td>1.0</td>\n",
              "      <td>0</td>\n",
              "      <td>0</td>\n",
              "      <td>6</td>\n",
              "      <td>770</td>\n",
              "      <td>0</td>\n",
              "      <td>1933</td>\n",
              "      <td>0</td>\n",
              "      <td>98028</td>\n",
              "      <td>47.7379</td>\n",
              "      <td>-122.233</td>\n",
              "      <td>2720</td>\n",
              "      <td>8062</td>\n",
              "    </tr>\n",
              "  </tbody>\n",
              "</table>\n",
              "</div>"
            ],
            "text/plain": [
              "           id             date     price  ...     long  sqft_living15  sqft_lot15\n",
              "0  7129300520  20141013T000000  221900.0  ... -122.257           1340        5650\n",
              "1  6414100192  20141209T000000  538000.0  ... -122.319           1690        7639\n",
              "2  5631500400  20150225T000000  180000.0  ... -122.233           2720        8062\n",
              "\n",
              "[3 rows x 20 columns]"
            ]
          },
          "metadata": {
            "tags": []
          },
          "execution_count": 3
        }
      ]
    },
    {
      "cell_type": "code",
      "metadata": {
        "id": "ZTkrEltQNU0x",
        "colab_type": "code",
        "outputId": "382f9cb0-24d8-4868-9990-d4c758759f48",
        "colab": {
          "base_uri": "https://localhost:8080/",
          "height": 142
        }
      },
      "source": [
        "condition_filename = \"house_condition.csv\"\n",
        "\n",
        "df_cond = pd.read_csv(join(path_prefix, condition_filename))\n",
        "df_cond.head(3)"
      ],
      "execution_count": 0,
      "outputs": [
        {
          "output_type": "execute_result",
          "data": {
            "text/html": [
              "<div>\n",
              "<style scoped>\n",
              "    .dataframe tbody tr th:only-of-type {\n",
              "        vertical-align: middle;\n",
              "    }\n",
              "\n",
              "    .dataframe tbody tr th {\n",
              "        vertical-align: top;\n",
              "    }\n",
              "\n",
              "    .dataframe thead th {\n",
              "        text-align: right;\n",
              "    }\n",
              "</style>\n",
              "<table border=\"1\" class=\"dataframe\">\n",
              "  <thead>\n",
              "    <tr style=\"text-align: right;\">\n",
              "      <th></th>\n",
              "      <th>id</th>\n",
              "      <th>condition</th>\n",
              "    </tr>\n",
              "  </thead>\n",
              "  <tbody>\n",
              "    <tr>\n",
              "      <th>0</th>\n",
              "      <td>6209000165</td>\n",
              "      <td>3</td>\n",
              "    </tr>\n",
              "    <tr>\n",
              "      <th>1</th>\n",
              "      <td>629000605</td>\n",
              "      <td>4</td>\n",
              "    </tr>\n",
              "    <tr>\n",
              "      <th>2</th>\n",
              "      <td>3268000040</td>\n",
              "      <td>5</td>\n",
              "    </tr>\n",
              "  </tbody>\n",
              "</table>\n",
              "</div>"
            ],
            "text/plain": [
              "           id  condition\n",
              "0  6209000165          3\n",
              "1   629000605          4\n",
              "2  3268000040          5"
            ]
          },
          "metadata": {
            "tags": []
          },
          "execution_count": 4
        }
      ]
    },
    {
      "cell_type": "markdown",
      "metadata": {
        "id": "NlftAKkGN7U_",
        "colab_type": "text"
      },
      "source": [
        "### Task 1: Joining Datasets\n",
        "\n",
        "As stated in the problem statement, you have two different datasets that store the same house ids, but in different order. Your first task is to merge them into a single dataframe with respect to the given house ids in both dataframe. At the end, print the top 3 rows of the merged dataframe.\n",
        "\n",
        "*Hint*: You may check the [third recitation](https://colab.research.google.com/drive/182nt4hDpzpfPqVZ3wkQMCprnimN8tBoH) material for some examples."
      ]
    },
    {
      "cell_type": "code",
      "metadata": {
        "colab_type": "code",
        "outputId": "482012e9-f416-4bbc-e825-2f35f8258a21",
        "id": "O1ihvEA6Qfor",
        "colab": {
          "base_uri": "https://localhost:8080/",
          "height": 162
        }
      },
      "source": [
        "# your code\n",
        "new_df = pd.merge(df_sales, df_cond, on='id')\n",
        "new_df.head(3)"
      ],
      "execution_count": 0,
      "outputs": [
        {
          "output_type": "execute_result",
          "data": {
            "text/html": [
              "<div>\n",
              "<style scoped>\n",
              "    .dataframe tbody tr th:only-of-type {\n",
              "        vertical-align: middle;\n",
              "    }\n",
              "\n",
              "    .dataframe tbody tr th {\n",
              "        vertical-align: top;\n",
              "    }\n",
              "\n",
              "    .dataframe thead th {\n",
              "        text-align: right;\n",
              "    }\n",
              "</style>\n",
              "<table border=\"1\" class=\"dataframe\">\n",
              "  <thead>\n",
              "    <tr style=\"text-align: right;\">\n",
              "      <th></th>\n",
              "      <th>id</th>\n",
              "      <th>date</th>\n",
              "      <th>price</th>\n",
              "      <th>bedrooms</th>\n",
              "      <th>bathrooms</th>\n",
              "      <th>sqft_living</th>\n",
              "      <th>sqft_lot</th>\n",
              "      <th>floors</th>\n",
              "      <th>waterfront</th>\n",
              "      <th>view</th>\n",
              "      <th>grade</th>\n",
              "      <th>sqft_above</th>\n",
              "      <th>sqft_basement</th>\n",
              "      <th>yr_built</th>\n",
              "      <th>yr_renovated</th>\n",
              "      <th>zipcode</th>\n",
              "      <th>lat</th>\n",
              "      <th>long</th>\n",
              "      <th>sqft_living15</th>\n",
              "      <th>sqft_lot15</th>\n",
              "      <th>condition</th>\n",
              "    </tr>\n",
              "  </thead>\n",
              "  <tbody>\n",
              "    <tr>\n",
              "      <th>0</th>\n",
              "      <td>7129300520</td>\n",
              "      <td>20141013T000000</td>\n",
              "      <td>221900.0</td>\n",
              "      <td>3</td>\n",
              "      <td>1.00</td>\n",
              "      <td>1180</td>\n",
              "      <td>5650</td>\n",
              "      <td>1.0</td>\n",
              "      <td>0</td>\n",
              "      <td>0</td>\n",
              "      <td>7</td>\n",
              "      <td>1180</td>\n",
              "      <td>0</td>\n",
              "      <td>1955</td>\n",
              "      <td>0</td>\n",
              "      <td>98178</td>\n",
              "      <td>47.5112</td>\n",
              "      <td>-122.257</td>\n",
              "      <td>1340</td>\n",
              "      <td>5650</td>\n",
              "      <td>3</td>\n",
              "    </tr>\n",
              "    <tr>\n",
              "      <th>1</th>\n",
              "      <td>6414100192</td>\n",
              "      <td>20141209T000000</td>\n",
              "      <td>538000.0</td>\n",
              "      <td>3</td>\n",
              "      <td>2.25</td>\n",
              "      <td>2570</td>\n",
              "      <td>7242</td>\n",
              "      <td>2.0</td>\n",
              "      <td>0</td>\n",
              "      <td>0</td>\n",
              "      <td>7</td>\n",
              "      <td>2170</td>\n",
              "      <td>400</td>\n",
              "      <td>1951</td>\n",
              "      <td>1991</td>\n",
              "      <td>98125</td>\n",
              "      <td>47.7210</td>\n",
              "      <td>-122.319</td>\n",
              "      <td>1690</td>\n",
              "      <td>7639</td>\n",
              "      <td>3</td>\n",
              "    </tr>\n",
              "    <tr>\n",
              "      <th>2</th>\n",
              "      <td>5631500400</td>\n",
              "      <td>20150225T000000</td>\n",
              "      <td>180000.0</td>\n",
              "      <td>2</td>\n",
              "      <td>1.00</td>\n",
              "      <td>770</td>\n",
              "      <td>10000</td>\n",
              "      <td>1.0</td>\n",
              "      <td>0</td>\n",
              "      <td>0</td>\n",
              "      <td>6</td>\n",
              "      <td>770</td>\n",
              "      <td>0</td>\n",
              "      <td>1933</td>\n",
              "      <td>0</td>\n",
              "      <td>98028</td>\n",
              "      <td>47.7379</td>\n",
              "      <td>-122.233</td>\n",
              "      <td>2720</td>\n",
              "      <td>8062</td>\n",
              "      <td>3</td>\n",
              "    </tr>\n",
              "  </tbody>\n",
              "</table>\n",
              "</div>"
            ],
            "text/plain": [
              "           id             date     price  ...  sqft_living15  sqft_lot15  condition\n",
              "0  7129300520  20141013T000000  221900.0  ...           1340        5650          3\n",
              "1  6414100192  20141209T000000  538000.0  ...           1690        7639          3\n",
              "2  5631500400  20150225T000000  180000.0  ...           2720        8062          3\n",
              "\n",
              "[3 rows x 21 columns]"
            ]
          },
          "metadata": {
            "tags": []
          },
          "execution_count": 5
        }
      ]
    },
    {
      "cell_type": "markdown",
      "metadata": {
        "id": "9Fr4kz-wSXMx",
        "colab_type": "text"
      },
      "source": [
        "### Task 2: Correlation Measurement\n",
        "\n",
        "Now, you need to perform the correlation measurement with the help of Scipy's `spearmanr` function. You may check its documentation [here](https://docs.scipy.org/doc/scipy/reference/generated/scipy.stats.spearmanr.html).\n",
        "\n",
        "As stated in the problem description, the `view` column takes values between 0-4, while the `condition` column is from 1-5. You need to make sure that both variables consists of the same rank values, either between 0-4 or 1-5.\n",
        "\n",
        "Then, extract the values from `view` and `condition` columns from the merged dataframe and provide them as parameters for the correlation functions. Once you obtain the correlation coefficent comment on the relationship between them."
      ]
    },
    {
      "cell_type": "code",
      "metadata": {
        "id": "iicgWOu_UbxJ",
        "colab_type": "code",
        "outputId": "d0f716a6-bf12-4b3b-fdf9-e7518a551c14",
        "colab": {
          "base_uri": "https://localhost:8080/",
          "height": 204
        }
      },
      "source": [
        "# your code\n",
        "#new_df['view'] += 1\n",
        "#new_df.tail(3)\n",
        "df_with_view_condition = new_df[['condition', 'view']]\n",
        "df_with_view_condition.head()"
      ],
      "execution_count": 0,
      "outputs": [
        {
          "output_type": "execute_result",
          "data": {
            "text/html": [
              "<div>\n",
              "<style scoped>\n",
              "    .dataframe tbody tr th:only-of-type {\n",
              "        vertical-align: middle;\n",
              "    }\n",
              "\n",
              "    .dataframe tbody tr th {\n",
              "        vertical-align: top;\n",
              "    }\n",
              "\n",
              "    .dataframe thead th {\n",
              "        text-align: right;\n",
              "    }\n",
              "</style>\n",
              "<table border=\"1\" class=\"dataframe\">\n",
              "  <thead>\n",
              "    <tr style=\"text-align: right;\">\n",
              "      <th></th>\n",
              "      <th>condition</th>\n",
              "      <th>view</th>\n",
              "    </tr>\n",
              "  </thead>\n",
              "  <tbody>\n",
              "    <tr>\n",
              "      <th>0</th>\n",
              "      <td>3</td>\n",
              "      <td>1</td>\n",
              "    </tr>\n",
              "    <tr>\n",
              "      <th>1</th>\n",
              "      <td>3</td>\n",
              "      <td>1</td>\n",
              "    </tr>\n",
              "    <tr>\n",
              "      <th>2</th>\n",
              "      <td>3</td>\n",
              "      <td>1</td>\n",
              "    </tr>\n",
              "    <tr>\n",
              "      <th>3</th>\n",
              "      <td>5</td>\n",
              "      <td>1</td>\n",
              "    </tr>\n",
              "    <tr>\n",
              "      <th>4</th>\n",
              "      <td>3</td>\n",
              "      <td>1</td>\n",
              "    </tr>\n",
              "  </tbody>\n",
              "</table>\n",
              "</div>"
            ],
            "text/plain": [
              "   condition  view\n",
              "0          3     1\n",
              "1          3     1\n",
              "2          3     1\n",
              "3          5     1\n",
              "4          3     1"
            ]
          },
          "metadata": {
            "tags": []
          },
          "execution_count": 12
        }
      ]
    },
    {
      "cell_type": "code",
      "metadata": {
        "id": "Fo4Glk8FVKUu",
        "colab_type": "code",
        "outputId": "3c3ebb7e-9e2d-4c7b-b17a-e4a84e07a12d",
        "colab": {
          "base_uri": "https://localhost:8080/",
          "height": 34
        }
      },
      "source": [
        "stats.spearmanr(df_with_view_condition['condition'], df_with_view_condition['view'])"
      ],
      "execution_count": 0,
      "outputs": [
        {
          "output_type": "execute_result",
          "data": {
            "text/plain": [
              "SpearmanrResult(correlation=0.04550296389959844, pvalue=2.6435912777732715e-11)"
            ]
          },
          "metadata": {
            "tags": []
          },
          "execution_count": 13
        }
      ]
    },
    {
      "cell_type": "markdown",
      "metadata": {
        "id": "sgLJpIR5Ud6z",
        "colab_type": "text"
      },
      "source": [
        "<font color=\"blue\">[Double Click to Type Your Comments]</font>\n",
        "\n",
        "Since correlation value is low as 0.045, they are not correlated at all. Also p-value being smaller than 0.05 means that this didn't happen by chance, strong evidence is evident for the correlation."
      ]
    },
    {
      "cell_type": "markdown",
      "metadata": {
        "id": "aNEqtJB_40hm",
        "colab_type": "text"
      },
      "source": [
        "## Point-Biserial Correlation\n",
        "\n",
        "In the case of ranked/ordinal values, you utilized Spearman's correlation function. However, you are also going to deal with additional data types in your projects. `Point-Biserial` correlation function calculates a correlation coefficient (-1 -> negatively perfect, 1 -> positvely perfect) that signifies the strength and direction of association between a binary and a continuous variables.\n",
        "\n",
        "In this problem, you have a dataset that describes the attributes affecting the admission rates for graduate programs. Each row corresponds to a unique application with listed attributes. And The column `Chance of Admit` is the admission probability for that application. In this problem, we are interested in the relationship between the admission rates and the prior research experience of the applicants. As you can observe below, the column `Research` is a binary variable in which `0` corresponds to no experience, while `1` states that the applicant has a research experience. In addition, the `Chance of Admit` column is a continuous variable.\n",
        "\n",
        "Now, you need to calculate the correlation between the research experience and the admission rates."
      ]
    },
    {
      "cell_type": "code",
      "metadata": {
        "id": "i386c4ijP6Zw",
        "colab_type": "code",
        "outputId": "d081973e-154f-44c9-c9a8-94eb6adf12bc",
        "colab": {
          "base_uri": "https://localhost:8080/",
          "height": 142
        }
      },
      "source": [
        "admission_filename = \"admissions.csv\"\n",
        "df_admissions = pd.read_csv(join(path_prefix, admission_filename))\n",
        "df_admissions.head(3)"
      ],
      "execution_count": 0,
      "outputs": [
        {
          "output_type": "execute_result",
          "data": {
            "text/html": [
              "<div>\n",
              "<style scoped>\n",
              "    .dataframe tbody tr th:only-of-type {\n",
              "        vertical-align: middle;\n",
              "    }\n",
              "\n",
              "    .dataframe tbody tr th {\n",
              "        vertical-align: top;\n",
              "    }\n",
              "\n",
              "    .dataframe thead th {\n",
              "        text-align: right;\n",
              "    }\n",
              "</style>\n",
              "<table border=\"1\" class=\"dataframe\">\n",
              "  <thead>\n",
              "    <tr style=\"text-align: right;\">\n",
              "      <th></th>\n",
              "      <th>Serial No.</th>\n",
              "      <th>GRE Score</th>\n",
              "      <th>TOEFL Score</th>\n",
              "      <th>University Rating</th>\n",
              "      <th>SOP</th>\n",
              "      <th>LOR</th>\n",
              "      <th>CGPA</th>\n",
              "      <th>Research</th>\n",
              "      <th>Chance of Admit</th>\n",
              "    </tr>\n",
              "  </thead>\n",
              "  <tbody>\n",
              "    <tr>\n",
              "      <th>0</th>\n",
              "      <td>1</td>\n",
              "      <td>337</td>\n",
              "      <td>118</td>\n",
              "      <td>4</td>\n",
              "      <td>4.5</td>\n",
              "      <td>4.5</td>\n",
              "      <td>9.65</td>\n",
              "      <td>1</td>\n",
              "      <td>0.92</td>\n",
              "    </tr>\n",
              "    <tr>\n",
              "      <th>1</th>\n",
              "      <td>2</td>\n",
              "      <td>324</td>\n",
              "      <td>107</td>\n",
              "      <td>4</td>\n",
              "      <td>4.0</td>\n",
              "      <td>4.5</td>\n",
              "      <td>8.87</td>\n",
              "      <td>1</td>\n",
              "      <td>0.76</td>\n",
              "    </tr>\n",
              "    <tr>\n",
              "      <th>2</th>\n",
              "      <td>3</td>\n",
              "      <td>316</td>\n",
              "      <td>104</td>\n",
              "      <td>3</td>\n",
              "      <td>3.0</td>\n",
              "      <td>3.5</td>\n",
              "      <td>8.00</td>\n",
              "      <td>1</td>\n",
              "      <td>0.72</td>\n",
              "    </tr>\n",
              "  </tbody>\n",
              "</table>\n",
              "</div>"
            ],
            "text/plain": [
              "   Serial No.  GRE Score  TOEFL Score  ...  CGPA  Research  Chance of Admit \n",
              "0           1        337          118  ...  9.65         1              0.92\n",
              "1           2        324          107  ...  8.87         1              0.76\n",
              "2           3        316          104  ...  8.00         1              0.72\n",
              "\n",
              "[3 rows x 9 columns]"
            ]
          },
          "metadata": {
            "tags": []
          },
          "execution_count": 14
        }
      ]
    },
    {
      "cell_type": "code",
      "metadata": {
        "id": "fkh_9Lb2Qnp8",
        "colab_type": "code",
        "outputId": "20c4562b-186c-4118-a8c6-401be6d7c674",
        "colab": {
          "base_uri": "https://localhost:8080/",
          "height": 34
        }
      },
      "source": [
        "df_admissions[\"Research\"].unique()"
      ],
      "execution_count": 0,
      "outputs": [
        {
          "output_type": "execute_result",
          "data": {
            "text/plain": [
              "array([1, 0])"
            ]
          },
          "metadata": {
            "tags": []
          },
          "execution_count": 15
        }
      ]
    },
    {
      "cell_type": "markdown",
      "metadata": {
        "id": "Sfb7k8AJRJxz",
        "colab_type": "text"
      },
      "source": [
        "### Task 1: Fixing a Column Name\n",
        "\n",
        "In the `adminssions` dataset, the `Chance of Admit` column has an extra whitespace at the end. For instace, in order to retrieve the values in that column, you have to type `df_admissions[\"Chance of Admit \"]`, which is very inconvenient.\n",
        "\n",
        "Fix this issue by removing that extra whitespace from the column name. At the end, print the column names in the resulting dataframe."
      ]
    },
    {
      "cell_type": "code",
      "metadata": {
        "id": "A4TGLI9BQ0wr",
        "colab_type": "code",
        "outputId": "abf99ef7-4d4e-4802-c7ec-56ea89f4c0a6",
        "colab": {
          "base_uri": "https://localhost:8080/",
          "height": 204
        }
      },
      "source": [
        "# your code\n",
        "df_admissions=df_admissions.rename(columns = {'Chance of Admit ':'Chance of Admit'})\n",
        "df_admissions.head()"
      ],
      "execution_count": 0,
      "outputs": [
        {
          "output_type": "execute_result",
          "data": {
            "text/html": [
              "<div>\n",
              "<style scoped>\n",
              "    .dataframe tbody tr th:only-of-type {\n",
              "        vertical-align: middle;\n",
              "    }\n",
              "\n",
              "    .dataframe tbody tr th {\n",
              "        vertical-align: top;\n",
              "    }\n",
              "\n",
              "    .dataframe thead th {\n",
              "        text-align: right;\n",
              "    }\n",
              "</style>\n",
              "<table border=\"1\" class=\"dataframe\">\n",
              "  <thead>\n",
              "    <tr style=\"text-align: right;\">\n",
              "      <th></th>\n",
              "      <th>Serial No.</th>\n",
              "      <th>GRE Score</th>\n",
              "      <th>TOEFL Score</th>\n",
              "      <th>University Rating</th>\n",
              "      <th>SOP</th>\n",
              "      <th>LOR</th>\n",
              "      <th>CGPA</th>\n",
              "      <th>Research</th>\n",
              "      <th>Chance of Admit</th>\n",
              "    </tr>\n",
              "  </thead>\n",
              "  <tbody>\n",
              "    <tr>\n",
              "      <th>0</th>\n",
              "      <td>1</td>\n",
              "      <td>337</td>\n",
              "      <td>118</td>\n",
              "      <td>4</td>\n",
              "      <td>4.5</td>\n",
              "      <td>4.5</td>\n",
              "      <td>9.65</td>\n",
              "      <td>1</td>\n",
              "      <td>0.92</td>\n",
              "    </tr>\n",
              "    <tr>\n",
              "      <th>1</th>\n",
              "      <td>2</td>\n",
              "      <td>324</td>\n",
              "      <td>107</td>\n",
              "      <td>4</td>\n",
              "      <td>4.0</td>\n",
              "      <td>4.5</td>\n",
              "      <td>8.87</td>\n",
              "      <td>1</td>\n",
              "      <td>0.76</td>\n",
              "    </tr>\n",
              "    <tr>\n",
              "      <th>2</th>\n",
              "      <td>3</td>\n",
              "      <td>316</td>\n",
              "      <td>104</td>\n",
              "      <td>3</td>\n",
              "      <td>3.0</td>\n",
              "      <td>3.5</td>\n",
              "      <td>8.00</td>\n",
              "      <td>1</td>\n",
              "      <td>0.72</td>\n",
              "    </tr>\n",
              "    <tr>\n",
              "      <th>3</th>\n",
              "      <td>4</td>\n",
              "      <td>322</td>\n",
              "      <td>110</td>\n",
              "      <td>3</td>\n",
              "      <td>3.5</td>\n",
              "      <td>2.5</td>\n",
              "      <td>8.67</td>\n",
              "      <td>1</td>\n",
              "      <td>0.80</td>\n",
              "    </tr>\n",
              "    <tr>\n",
              "      <th>4</th>\n",
              "      <td>5</td>\n",
              "      <td>314</td>\n",
              "      <td>103</td>\n",
              "      <td>2</td>\n",
              "      <td>2.0</td>\n",
              "      <td>3.0</td>\n",
              "      <td>8.21</td>\n",
              "      <td>0</td>\n",
              "      <td>0.65</td>\n",
              "    </tr>\n",
              "  </tbody>\n",
              "</table>\n",
              "</div>"
            ],
            "text/plain": [
              "   Serial No.  GRE Score  TOEFL Score  ...  CGPA  Research  Chance of Admit\n",
              "0           1        337          118  ...  9.65         1             0.92\n",
              "1           2        324          107  ...  8.87         1             0.76\n",
              "2           3        316          104  ...  8.00         1             0.72\n",
              "3           4        322          110  ...  8.67         1             0.80\n",
              "4           5        314          103  ...  8.21         0             0.65\n",
              "\n",
              "[5 rows x 9 columns]"
            ]
          },
          "metadata": {
            "tags": []
          },
          "execution_count": 16
        }
      ]
    },
    {
      "cell_type": "markdown",
      "metadata": {
        "id": "ysc_oz3NSjSc",
        "colab_type": "text"
      },
      "source": [
        "### Task 2: Calculating the Correlation\n",
        "\n",
        "Now you are going to find the point-biserial correlation coefficient. To this end, extract the binary variable `Research` and continuous variable `Chance of Admit` from the dataframe and find the correlation coefficient. \n",
        "\n",
        "In this task, you may use Scipy's [pointbiserialr](https://docs.scipy.org/doc/scipy-0.14.0/reference/generated/scipy.stats.pointbiserialr.html) function to obtain the coefficient. Once you obtain the correlation coefficent comment on the relationship between them."
      ]
    },
    {
      "cell_type": "code",
      "metadata": {
        "id": "F_L-_JN-TRyP",
        "colab_type": "code",
        "outputId": "0284a971-bd8e-4625-81b7-bedb8847036f",
        "colab": {
          "base_uri": "https://localhost:8080/",
          "height": 34
        }
      },
      "source": [
        "# your code\n",
        "stats.pointbiserialr(df_admissions['Chance of Admit'], df_admissions['Research'])"
      ],
      "execution_count": 0,
      "outputs": [
        {
          "output_type": "execute_result",
          "data": {
            "text/plain": [
              "PointbiserialrResult(correlation=0.5532021370190403, pvalue=1.9181733806921424e-33)"
            ]
          },
          "metadata": {
            "tags": []
          },
          "execution_count": 17
        }
      ]
    },
    {
      "cell_type": "markdown",
      "metadata": {
        "id": "uB7Bh7rjTnWm",
        "colab_type": "text"
      },
      "source": [
        "<font color=\"blue\">[Double Click to Type Your Comments]</font>\n",
        "\n",
        "They are positively correlated but moderately, since the correlation value is 0,55. Also p-value being smaller than 0.05 means that this didn't happen by chance and strong evidence is evident for the correlation.\n"
      ]
    },
    {
      "cell_type": "markdown",
      "metadata": {
        "id": "41VipcSJ43hZ",
        "colab_type": "text"
      },
      "source": [
        "## Random Permutation Tests"
      ]
    },
    {
      "cell_type": "markdown",
      "metadata": {
        "id": "Br4UxgCFdFcc",
        "colab_type": "text"
      },
      "source": [
        "One of the assumptions behind Point-Biserial Function is that the continuous variable should be approximately normally distributed for each category in the binary variable. However, that's not the case in our problem, as you can observe in the figure below."
      ]
    },
    {
      "cell_type": "code",
      "metadata": {
        "id": "UFKw5EHHQswM",
        "colab_type": "code",
        "outputId": "3c92b6c1-874e-434c-e8a6-f509fcd2a8ea",
        "colab": {
          "base_uri": "https://localhost:8080/",
          "height": 369
        }
      },
      "source": [
        "fig, axes = plt.subplots(1,2, figsize=(10,5))\n",
        "\n",
        "axes[0].hist(df_admissions[df_admissions[\"Research\"] == 1][\"Chance of Admit\"], bins=\"scott\", label=\"Research Exp.\")\n",
        "axes[1].hist(df_admissions[df_admissions[\"Research\"] == 0][\"Chance of Admit\"], bins=\"scott\", label=\"No Exp.\")\n",
        "\n",
        "axes[0].set_title(\"Research Experience\")\n",
        "axes[1].set_title(\"No Experience\")\n",
        "\n",
        "plt.tight_layout()\n",
        "plt.show()"
      ],
      "execution_count": 0,
      "outputs": [
        {
          "output_type": "display_data",
          "data": {
            "image/png": "[encoded data removed]",
            "text/plain": [
              "<Figure size 720x360 with 2 Axes>"
            ]
          },
          "metadata": {
            "tags": [],
            "needs_background": "light"
          }
        }
      ]
    },
    {
      "cell_type": "markdown",
      "metadata": {
        "id": "X-trDNJ7U0J_",
        "colab_type": "text"
      },
      "source": [
        "The majority of the statistical tests that we have been talking about make a sort of assumption about the distribution of the data, for instance normal distribution in Point-Biserial and many other. But as you can imagine, these assumptions cannot always be true. They can however be approximately close enough to give you a useful result.\n",
        "\n",
        "In order not to deal with these assumptions, you can perform `Random Permutation Tests` in which there is no underlying assumption regarding the data. \n",
        "\n",
        "Basically, you are going to utilize a permutation test for your point-biserial coefficient to show that it's statistically significant and is hardly explaind by chance.\n",
        "\n",
        "Before you begin, please read more about the random permutation tests from the links below .\n",
        "\n",
        "https://towardsdatascience.com/how-to-assess-statistical-significance-in-your-data-with-permutation-tests-8bb925b2113d\n",
        "\n",
        "https://www.jwilber.me/permutationtest/"
      ]
    },
    {
      "cell_type": "markdown",
      "metadata": {
        "id": "By-x9BzpnhX9",
        "colab_type": "text"
      },
      "source": [
        "### Task 1: Implementation\n",
        "\n",
        "Below, you can observe the required steps to perform a permutation test for this problem.\n",
        "\n",
        "---\n",
        "\n",
        "1. Compute the correlation coefficient between *research* and *Chance of Admit* variables and assign the result to a variable named *observed_coefficient*.\n",
        "2. Randomly shuffle *Chance of Admit* values while keeping the *research* values unchanged.\n",
        "3. Compute the correlation coefficient for the new values and store it in a list named *coeffs*.\n",
        "4. Repeat 3 and 4 many times, let's say $10^5$.\n",
        "\n",
        "---\n",
        "\n",
        "Once your iterations are completed, the variable *coeffs* is actually the sampling distribution of your correlation coefficients. In order to calculate the p_value of your *observed_coefficient*, you need to find the ratio of randomly obtained coefficients that are greater than equal to your *observed_coefficient* in absolute values. More formally, $p\\_value \\, = \\, \\large{\\frac{\\# \\; of \\;  |coefficients| \\; \\geq \\; |observed\\_coefficient|}{\\# \\; of \\; total \\; coefficients}}$\n",
        "\n",
        "Once you obtain the p_value comment on the significance of your original correlation coefficient, with the level of significance, $\\alpha$, set to 0.05.\n",
        "\n",
        "*For thisk task, you may check the exercise solution of recitation 6.*"
      ]
    },
    {
      "cell_type": "code",
      "metadata": {
        "id": "kWtB9gTAnsl_",
        "colab_type": "code",
        "outputId": "83a12021-8514-41c9-8687-3e72ba4e25a1",
        "colab": {
          "base_uri": "https://localhost:8080/",
          "height": 34
        }
      },
      "source": [
        "# your code\n",
        "observed_coefficient = stats.pointbiserialr(df_admissions['Chance of Admit'], df_admissions['Research'])\n",
        "print(observed_coefficient)"
      ],
      "execution_count": 0,
      "outputs": [
        {
          "output_type": "stream",
          "text": [
            "PointbiserialrResult(correlation=0.5532021370190403, pvalue=1.9181733806921424e-33)\n"
          ],
          "name": "stdout"
        }
      ]
    },
    {
      "cell_type": "code",
      "metadata": {
        "id": "B-_RouU1gkWq",
        "colab_type": "code",
        "outputId": "97812263-9174-403c-ff38-aa0dfd225b2e",
        "colab": {
          "base_uri": "https://localhost:8080/",
          "height": 34
        }
      },
      "source": [
        "#Compute ground truth correlation:\n",
        "[r,pv] =stats.pearsonr(df_admissions.iloc[:,7],df_admissions.iloc[:,8])\n",
        "#Copy one of the features:\n",
        "pS = copy.copy(df_admissions.iloc[:,7])\n",
        "#Initialize variables:\n",
        "pR = []\n",
        "#Choose number of permutations:\n",
        "p=100000\n",
        "#Initialize permutation loop:\n",
        "for i in range(0,p):\n",
        "  #Shuffle one of the features:\n",
        "    random.shuffle(pS)\n",
        "    #Computed permuted correlations and store them in pR:\n",
        "    pR.append(stats.pearsonr(pS,df_admissions.iloc[:,8])[0])\n",
        "    \n",
        "\n",
        "#Significance:\n",
        "p_val = len(np.where(np.abs(pR)>=np.abs(r))[0])/p\n",
        "print(p_val)"
      ],
      "execution_count": 0,
      "outputs": [
        {
          "output_type": "stream",
          "text": [
            "0.0\n"
          ],
          "name": "stdout"
        }
      ]
    },
    {
      "cell_type": "markdown",
      "metadata": {
        "id": "p50R5zfjwC0x",
        "colab_type": "text"
      },
      "source": [
        "<font color=\"blue\">[Double Click to Type Your Comments]</font>\n",
        "\n",
        "Since the p_value is 0, this didn't happen by chance and that was what we were searching for. It is lower than 0.05, so correlation value is stastically significant."
      ]
    }
  ]
}